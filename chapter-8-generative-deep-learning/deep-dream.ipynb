{
 "metadata": {
  "language_info": {
   "codemirror_mode": {
    "name": "ipython",
    "version": 3
   },
   "file_extension": ".py",
   "mimetype": "text/x-python",
   "name": "python",
   "nbconvert_exporter": "python",
   "pygments_lexer": "ipython3",
   "version": "3.7.3-final"
  },
  "orig_nbformat": 2,
  "kernelspec": {
   "name": "python3",
   "display_name": "Python 3"
  }
 },
 "nbformat": 4,
 "nbformat_minor": 2,
 "cells": [
  {
   "cell_type": "code",
   "execution_count": 28,
   "metadata": {
    "tags": []
   },
   "outputs": [],
   "source": [
    "from keras.applications import inception_v3\n",
    "\n",
    "model = inception_v3.InceptionV3(weights='imagenet', include_top=False)"
   ]
  },
  {
   "cell_type": "code",
   "execution_count": 94,
   "metadata": {},
   "outputs": [],
   "source": [
    "layer_contributions = {\n",
    "    'mixed2': 0.2,\n",
    "    'mixed3': 1.,\n",
    "    'mixed4': 3.,\n",
    "    'mixed5': 4,\n",
    "}"
   ]
  },
  {
   "cell_type": "code",
   "execution_count": 95,
   "metadata": {},
   "outputs": [],
   "source": [
    "from keras import backend as K\n",
    "\n",
    "layer_dict = dict([(layer.name, layer) for layer in model.layers])\n",
    "loss = K.variable(0.)\n",
    "for layer_name in layer_contributions:\n",
    "    coeff = layer_contributions[layer_name]\n",
    "    activation = layer_dict[layer_name].output\n",
    "    scaling = K.prod(K.cast(K.shape(activation), 'float32'))\n",
    "    loss = loss + ((coeff * K.sum(K.square(activation[:, 2: -2, 2: -2, :]))) / scaling)"
   ]
  },
  {
   "cell_type": "code",
   "execution_count": 96,
   "metadata": {},
   "outputs": [],
   "source": [
    "dream = model.input\n",
    "grads = K.gradients(loss, dream)[0]\n",
    "grads /= K.maximum(K.mean(K.abs(grads)), 1e-7)\n",
    "outputs = [loss, grads]\n",
    "fetch_loss_and_grads = K.function([dream], outputs)\n",
    "def eval_loss_and_grads(x):\n",
    "    outs = fetch_loss_and_grads([x])\n",
    "    loss_value = outs[0]\n",
    "    grad_values = outs[1]\n",
    "    return loss_value, grad_values\n",
    "def gradient_ascent(x, iterations, step, max_loss=None):\n",
    "    for i in range(iterations):\n",
    "        loss_value, grad_values = eval_loss_and_grads(x)\n",
    "        if max_loss is not None and loss_value > max_loss:\n",
    "            break\n",
    "        print('...Loss value at', i, ':', loss_value)\n",
    "        x += step * grad_values\n",
    "    return x"
   ]
  },
  {
   "cell_type": "code",
   "execution_count": 97,
   "metadata": {},
   "outputs": [],
   "source": [
    "import scipy\n",
    "import scipy.misc\n",
    "from keras.preprocessing import image\n",
    "\n",
    "def resize_img(img, size):\n",
    "    img = np.copy(img)\n",
    "    factors = (1,\n",
    "               float(size[0]) / img.shape[1],\n",
    "               float(size[1]) / img.shape[2],\n",
    "               1)\n",
    "    return scipy.ndimage.zoom(img, factors, order=1)\n",
    "def save_img(img, fname):\n",
    "    pil_img = deprocess_image(np.copy(img))\n",
    "    scipy.misc.imsave(fname, pil_img)\n",
    "def preprocess_image(image_path):\n",
    "    img = image.load_img(image_path)\n",
    "    img = image.img_to_array(img)\n",
    "    img = np.expand_dims(img, axis=0)\n",
    "    img = inception_v3.preprocess_input(img)\n",
    "    return img\n",
    "\n",
    "def deprocess_image(x):\n",
    "    if K.image_data_format() == 'channels_first':\n",
    "        x = x.reshape((3, x.shape[2], x.shape[3]))\n",
    "        x = x.transpose((1, 2, 0))\n",
    "    else:\n",
    "        x = x.reshape((x.shape[1], x.shape[2], 3))\n",
    "    x /= 2.\n",
    "    x += 0.5\n",
    "    x *= 255.\n",
    "    x = np.clip(x, 0, 255).astype('uint8')\n",
    "    return x"
   ]
  },
  {
   "cell_type": "code",
   "execution_count": 98,
   "metadata": {},
   "outputs": [
    {
     "output_type": "stream",
     "name": "stdout",
     "text": [
      "Processing image shape (160, 241)\n",
      "...Loss value at 0 : 1.281711\n",
      "...Loss value at 1 : 1.8371537\n",
      "...Loss value at 2 : 2.4957883\n",
      "...Loss value at 3 : 3.0603065\n",
      "...Loss value at 4 : 3.6772795\n",
      "...Loss value at 5 : 4.2366323\n",
      "...Loss value at 6 : 4.6665554\n",
      "...Loss value at 7 : 5.214514\n",
      "...Loss value at 8 : 5.638151\n",
      "...Loss value at 9 : 6.163439\n",
      "...Loss value at 10 : 6.6280956\n",
      "...Loss value at 11 : 7.1252804\n",
      "...Loss value at 12 : 7.3685474\n",
      "...Loss value at 13 : 8.163757\n",
      "...Loss value at 14 : 8.528556\n",
      "...Loss value at 15 : 9.0585575\n",
      "...Loss value at 16 : 9.366744\n",
      "Lossy conversion from float32 to uint8. Range [-1.8790994882583618, 1.1801446676254272]. Convert image to uint8 prior to saving to suppress this warning.\n",
      "Processing image shape (225, 338)\n",
      "...Loss value at 0 : 2.2962909\n",
      "...Loss value at 1 : 3.5368357\n",
      "...Loss value at 2 : 4.526987\n",
      "...Loss value at 3 : 5.302583\n",
      "...Loss value at 4 : 6.0850244\n",
      "...Loss value at 5 : 6.8609896\n",
      "...Loss value at 6 : 7.430675\n",
      "...Loss value at 7 : 8.068256\n",
      "...Loss value at 8 : 8.711237\n",
      "...Loss value at 9 : 9.396991\n",
      "...Loss value at 10 : 9.852814\n",
      "Lossy conversion from float32 to uint8. Range [-1.7662642002105713, 1.1448540687561035]. Convert image to uint8 prior to saving to suppress this warning.\n",
      "Processing image shape (315, 474)\n",
      "...Loss value at 0 : 2.2670946\n",
      "...Loss value at 1 : 3.5447667\n",
      "...Loss value at 2 : 4.6305437\n",
      "...Loss value at 3 : 5.523778\n",
      "...Loss value at 4 : 6.217404\n",
      "...Loss value at 5 : 6.913966\n",
      "...Loss value at 6 : 7.7117424\n",
      "...Loss value at 7 : 8.392204\n",
      "...Loss value at 8 : 8.992146\n",
      "...Loss value at 9 : 9.565969\n",
      "Lossy conversion from float32 to uint8. Range [-1.923691749572754, 1.2607992887496948]. Convert image to uint8 prior to saving to suppress this warning.\n",
      "Lossy conversion from float32 to uint8. Range [-1.923691749572754, 1.2607992887496948]. Convert image to uint8 prior to saving to suppress this warning.\n"
     ]
    }
   ],
   "source": [
    "import numpy as np\n",
    "import imageio\n",
    "\n",
    "step = 0.01\n",
    "num_octave = 3\n",
    "octave_scale = 1.4\n",
    "iterations = 20\n",
    "max_loss = 10.\n",
    "base_image_path = './dataset/elephants.jpg'\n",
    "img = preprocess_image(base_image_path)\n",
    "original_shape = img.shape[1:3]\n",
    "successive_shapes = [original_shape]\n",
    "for i in range(1, num_octave):\n",
    "    shape = tuple([int(dim / (octave_scale ** i)) for dim in original_shape])\n",
    "    successive_shapes.append(shape)\n",
    "successive_shapes = successive_shapes[::-1]\n",
    "original_img = np.copy(img)\n",
    "shrunk_original_img = resize_img(img, successive_shapes[0])\n",
    "for shape in successive_shapes:\n",
    "    print('Processing image shape', shape)\n",
    "    img = resize_img(img, shape)\n",
    "    img = gradient_ascent(img,\n",
    "                      iterations=iterations,\n",
    "                      step=step,\n",
    "                      max_loss=max_loss)\n",
    "    upscaled_shrunk_original_img = resize_img(shrunk_original_img, shape)\n",
    "    same_size_original = resize_img(original_img, shape)\n",
    "    lost_detail = same_size_original - upscaled_shrunk_original_img\n",
    "    img += lost_detail\n",
    "    shrunk_original_img = resize_img(original_img, shape)\n",
    "    imageio.imwrite('dataset/dream_at_scale_' + str(shape) + '.jpg', img[0])\n",
    "\n",
    "imageio.imwrite('dataset/final_dream.jpg', img[0])"
   ]
  },
  {
   "cell_type": "code",
   "execution_count": null,
   "metadata": {},
   "outputs": [],
   "source": []
  },
  {
   "cell_type": "code",
   "execution_count": null,
   "metadata": {},
   "outputs": [],
   "source": []
  }
 ]
}