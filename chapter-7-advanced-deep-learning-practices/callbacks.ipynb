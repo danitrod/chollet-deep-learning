{
 "metadata": {
  "language_info": {
   "codemirror_mode": {
    "name": "ipython",
    "version": 3
   },
   "file_extension": ".py",
   "mimetype": "text/x-python",
   "name": "python",
   "nbconvert_exporter": "python",
   "pygments_lexer": "ipython3",
   "version": "3.7.3-final"
  },
  "orig_nbformat": 2,
  "kernelspec": {
   "name": "python37364bit59be018c163f445a96da55c2ca0a32ef",
   "display_name": "Python 3.7.3 64-bit"
  }
 },
 "nbformat": 4,
 "nbformat_minor": 2,
 "cells": [
  {
   "cell_type": "code",
   "execution_count": 163,
   "metadata": {},
   "outputs": [],
   "source": [
    "# Writing a callback\n",
    "import keras\n",
    "import numpy as np\n",
    "\n",
    "class ActivationLogger(keras.callbacks.Callback):\n",
    "    def __init__(self, val_data, val_labels, dir='logs'):\n",
    "        self.validation_data = (val_data,val_labels)\n",
    "        self.dir = dir\n",
    "\n",
    "    def set_model(self, model):\n",
    "        self.model = model\n",
    "        layer_outputs = [layer.output for layer in model.layers]\n",
    "        self.activations_model = keras.models.Model(model.input,layer_outputs)\n",
    "    def on_epoch_end(self, epoch, logs=None):\n",
    "        if self.validation_data is None:\n",
    "            raise RuntimeError('Requires validation_data.')\n",
    "        # Save activations to a file\n",
    "        validation_sample = self.validation_data[0][0:1]\n",
    "        activations = self.activations_model.predict(validation_sample)\n",
    "        for i, layer in enumerate(activations):\n",
    "            fname = './{}/{}_layer{}_activations'.format(self.dir, epoch, i)\n",
    "            np.save(fname, layer)"
   ]
  },
  {
   "cell_type": "code",
   "execution_count": 164,
   "metadata": {},
   "outputs": [],
   "source": [
    "train_data = np.random.rand(500,16)\n",
    "train_labels = np.random.randint(0,2,size=500,)\n",
    "val_data = np.random.rand(30,16)\n",
    "val_labels = np.random.randint(0,2,size=30,)"
   ]
  },
  {
   "cell_type": "code",
   "execution_count": 165,
   "metadata": {},
   "outputs": [
    {
     "output_type": "stream",
     "name": "stdout",
     "text": [
      "Epoch 1/10\n",
      "16/16 [==============================] - 0s 23ms/step - loss: 7.8372 - acc: 0.4920 - val_loss: 8.7408 - val_acc: 0.4333\n",
      "Epoch 2/10\n",
      "16/16 [==============================] - 0s 22ms/step - loss: 7.8361 - acc: 0.4920 - val_loss: 8.7408 - val_acc: 0.4333\n",
      "Epoch 3/10\n",
      "16/16 [==============================] - 0s 26ms/step - loss: 7.8359 - acc: 0.4920 - val_loss: 8.7408 - val_acc: 0.4333\n",
      "Epoch 4/10\n",
      "16/16 [==============================] - 0s 22ms/step - loss: 7.8359 - acc: 0.4920 - val_loss: 8.7408 - val_acc: 0.4333\n",
      "Epoch 5/10\n",
      "16/16 [==============================] - 0s 25ms/step - loss: 7.8359 - acc: 0.4920 - val_loss: 8.7408 - val_acc: 0.4333\n",
      "Epoch 6/10\n",
      "16/16 [==============================] - 0s 9ms/step - loss: 7.8359 - acc: 0.4920 - val_loss: 8.7408 - val_acc: 0.4333\n",
      "Epoch 7/10\n",
      "16/16 [==============================] - 0s 10ms/step - loss: 7.8359 - acc: 0.4920 - val_loss: 8.7408 - val_acc: 0.4333\n",
      "Epoch 8/10\n",
      "16/16 [==============================] - 1s 37ms/step - loss: 7.8359 - acc: 0.4920 - val_loss: 8.7408 - val_acc: 0.4333\n",
      "Epoch 9/10\n",
      "16/16 [==============================] - 0s 19ms/step - loss: 7.8359 - acc: 0.4920 - val_loss: 8.7408 - val_acc: 0.4333\n",
      "Epoch 10/10\n",
      "16/16 [==============================] - 0s 10ms/step - loss: 7.8359 - acc: 0.4920 - val_loss: 8.7408 - val_acc: 0.4333\n"
     ]
    }
   ],
   "source": [
    "model = keras.Sequential()\n",
    "model.add(keras.layers.Input(16,))\n",
    "model.add(keras.layers.Dense(16))\n",
    "model.add(keras.layers.Dense(1))\n",
    "model.compile(optimizer='rmsprop',\n",
    "              loss='binary_crossentropy',\n",
    "              metrics=['acc'])\n",
    "\n",
    "callbacks = [ActivationLogger(val_data,val_labels, dir='activations')]\n",
    "history = model.fit(train_data, train_labels, validation_data=(val_data,val_labels), callbacks=callbacks, epochs=10)"
   ]
  },
  {
   "cell_type": "code",
   "execution_count": 167,
   "metadata": {},
   "outputs": [
    {
     "output_type": "execute_result",
     "data": {
      "text/plain": [
       "array([[-1.2232131 , -0.83864546, -0.5148722 ,  0.2753941 , -0.12282251,\n",
       "        -1.2738612 , -0.31541508, -0.45083082,  0.126953  , -0.5967531 ,\n",
       "        -0.0299296 , -0.16837889, -1.738901  ,  0.14308386, -0.04983488,\n",
       "        -0.4447585 ]], dtype=float32)"
      ]
     },
     "metadata": {},
     "execution_count": 167
    }
   ],
   "source": [
    "# Loading a random layer activation\n",
    "np.load('./activations/8_layer0_activations.npy')"
   ]
  }
 ]
}